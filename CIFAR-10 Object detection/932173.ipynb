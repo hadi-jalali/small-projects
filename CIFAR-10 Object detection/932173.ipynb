{
 "cells": [
  {
   "cell_type": "markdown",
   "metadata": {},
   "source": [
    "This note book contains the implementation of 2 different models which are used to perform image recognistion on a subset dataset of CIFAR-10 dataset.\n",
    "The first half is going to be the development of a neural network. In the later half will be then, a  convolutional neural network"
   ]
  },
  {
   "cell_type": "code",
   "execution_count": 440,
   "metadata": {},
   "outputs": [],
   "source": [
    "import numpy as np\n",
    "import matplotlib.pyplot as plt\n",
    "import skimage.feature\n",
    "import tensorflow as tf\n",
    "from sklearn.decomposition import PCA\n",
    "from sklearn.model_selection import train_test_split\n",
    "from sklearn.metrics import classification_report \n",
    "from sklearn.metrics import confusion_matrix\n",
    "import itertools"
   ]
  },
  {
   "cell_type": "markdown",
   "metadata": {},
   "source": [
    "Loading in the data and doing some check on shape and boundaries"
   ]
  },
  {
   "cell_type": "code",
   "execution_count": 441,
   "metadata": {},
   "outputs": [
    {
     "name": "stdout",
     "output_type": "stream",
     "text": [
      "image shape:  (32, 32, 3, 10000)\n",
      "label shape:  (10000, 1)\n",
      "max:  1.0\n",
      "min:  0.0\n"
     ]
    }
   ],
   "source": [
    "train_images = np.load('trnImage.npy')\n",
    "train_labels = np.load('trnLabel.npy')\n",
    "test_images = np.load('tstImage.npy')\n",
    "test_labels = np.load('tstLabel.npy')\n",
    "labels = ['airplanes','automobile','bird','cat','deer','dog','frog','horse','ship','truck']\n",
    "\n",
    "print('image shape: ' ,train_images.shape)\n",
    "print('label shape: ' ,train_labels.shape)\n",
    "\n",
    "print(\"max: \",train_images.max())\n",
    "print(\"min: \",train_images.min())"
   ]
  },
  {
   "cell_type": "markdown",
   "metadata": {},
   "source": [
    "Data was scaled already but need to change the shape of the images and labels"
   ]
  },
  {
   "cell_type": "code",
   "execution_count": 442,
   "metadata": {},
   "outputs": [
    {
     "name": "stdout",
     "output_type": "stream",
     "text": [
      "image shape:  (10000, 32, 32, 3)\n",
      "label shape:  (10000,)\n"
     ]
    }
   ],
   "source": [
    "train_labels = train_labels.reshape(-1)\n",
    "test_labels = test_labels.reshape(-1)\n",
    "\n",
    "train_images = np.transpose(train_images,[3,0,1,2])\n",
    "test_images = np.transpose(test_images,[3,0,1,2])\n",
    "\n",
    "print('image shape: ' ,train_images.shape)\n",
    "print('label shape: ' ,train_labels.shape)"
   ]
  },
  {
   "cell_type": "markdown",
   "metadata": {},
   "source": [
    "This chunk of code is to get the output size of each hog"
   ]
  },
  {
   "cell_type": "code",
   "execution_count": 537,
   "metadata": {},
   "outputs": [
    {
     "name": "stdout",
     "output_type": "stream",
     "text": [
      "The extracted feature vector is of length 324 per sample\n"
     ]
    }
   ],
   "source": [
    "train_hog = skimage.feature.hog(image,block_norm = \"L2-Hys\", visualize=False)\n",
    "print(f'The extracted feature vector is of length {train_hog.shape[0]} per sample')"
   ]
  },
  {
   "cell_type": "markdown",
   "metadata": {},
   "source": [
    "Anything before this was mutual for both models but from now on these are specifics for nn.\n",
    "I extract the value for histogram of oriented gradients of each each image and add it to a new list which will be used."
   ]
  },
  {
   "cell_type": "code",
   "execution_count": 443,
   "metadata": {},
   "outputs": [
    {
     "name": "stdout",
     "output_type": "stream",
     "text": [
      "(10000, 324)\n"
     ]
    }
   ],
   "source": [
    "train_hog  = np.zeros((train_images.shape[0],324))\n",
    "test_hog = np.zeros((test_images.shape[0], 324))\n",
    "for i in range(train_images.shape[0]):\n",
    "    image = train_images[i, :,: ,:]\n",
    "    train_hog[i] = skimage.feature.hog(image,block_norm = \"L2-Hys\", visualize=False)\n",
    "for i in range(test_images.shape[0]):\n",
    "    image = test_images[i, :,: ,:]\n",
    "    test_hog[i] = skimage.feature.hog(image,block_norm = \"L2-Hys\", visualize=False)\n",
    "    \n",
    "print(train_hog.shape)"
   ]
  },
  {
   "cell_type": "markdown",
   "metadata": {},
   "source": [
    "As you can see, the labels file has a step behaviour which is not ideal for trainng"
   ]
  },
  {
   "cell_type": "code",
   "execution_count": 444,
   "metadata": {},
   "outputs": [
    {
     "data": {
      "text/plain": [
       "<function matplotlib.pyplot.show(close=None, block=None)>"
      ]
     },
     "execution_count": 444,
     "metadata": {},
     "output_type": "execute_result"
    },
    {
     "data": {
      "image/png": "[encoded data removed]",
      "text/plain": [
       "<Figure size 432x288 with 1 Axes>"
      ]
     },
     "metadata": {
      "needs_background": "light"
     },
     "output_type": "display_data"
    }
   ],
   "source": [
    "plt.figure()\n",
    "plt.plot(train_labels)\n",
    "plt.xlabel('sample')\n",
    "plt.ylabel('Labels')\n",
    "plt.show"
   ]
  },
  {
   "cell_type": "markdown",
   "metadata": {},
   "source": [
    "So to solve this I'm goin to use an special imported function that shuffles our dataset. (I've given random_state a set value in order to compare different attribute changes )"
   ]
  },
  {
   "cell_type": "code",
   "execution_count": 445,
   "metadata": {},
   "outputs": [
    {
     "name": "stdout",
     "output_type": "stream",
     "text": [
      "(8000, 324)\n",
      "(1000, 32, 32, 3)\n"
     ]
    }
   ],
   "source": [
    "x_train, x_test, y_train, y_test = train_test_split(train_hog, train_labels, test_size=0.2 , random_state = 42)\n",
    "\n",
    "print(x_train.shape)\n",
    "print(test_images.shape)"
   ]
  },
  {
   "cell_type": "markdown",
   "metadata": {},
   "source": [
    "Using PCA to reduce the dimentionality to take the attributes that are included in 90% of the variance"
   ]
  },
  {
   "cell_type": "code",
   "execution_count": 446,
   "metadata": {},
   "outputs": [],
   "source": [
    "pca = PCA(0.9)\n",
    "x_train = pca.fit_transform(x_train)\n",
    "x_test = pca.transform(x_test)\n",
    "nn_test_images = pca.transform(test_hog)"
   ]
  },
  {
   "cell_type": "markdown",
   "metadata": {},
   "source": [
    "Feauture are reduces massively and is just 84 now"
   ]
  },
  {
   "cell_type": "code",
   "execution_count": 447,
   "metadata": {},
   "outputs": [
    {
     "name": "stdout",
     "output_type": "stream",
     "text": [
      "new shape:  (8000, 84)\n"
     ]
    }
   ],
   "source": [
    "print('new shape: ', x_train.shape)"
   ]
  },
  {
   "cell_type": "markdown",
   "metadata": {},
   "source": [
    "Creating the model"
   ]
  },
  {
   "cell_type": "code",
   "execution_count": 451,
   "metadata": {},
   "outputs": [],
   "source": [
    "nn_model = tf.keras.Sequential()\n",
    "nn_model.add(tf.keras.layers.Dense(1024, activation=tf.nn.relu, input_shape=(x_train.shape[-1],)))\n",
    "nn_model.add(tf.keras.layers.Dense(1024, activation=tf.nn.relu))\n",
    "nn_model.add(tf.keras.layers.Dense(512, activation=tf.nn.relu))\n",
    "nn_model.add(tf.keras.layers.Dense(256, activation=tf.nn.relu))\n",
    "nn_model.add(tf.keras.layers.Dense(64, activation=tf.nn.relu))\n",
    "nn_model.add(tf.keras.layers.Dense(len(np.unique(y_train)), activation=tf.nn.softmax))"
   ]
  },
  {
   "cell_type": "code",
   "execution_count": 452,
   "metadata": {},
   "outputs": [
    {
     "name": "stdout",
     "output_type": "stream",
     "text": [
      "Model: \"sequential_22\"\n",
      "_________________________________________________________________\n",
      "Layer (type)                 Output Shape              Param #   \n",
      "=================================================================\n",
      "dense_78 (Dense)             (None, 1024)              99328     \n",
      "_________________________________________________________________\n",
      "dense_79 (Dense)             (None, 1024)              1049600   \n",
      "_________________________________________________________________\n",
      "dense_80 (Dense)             (None, 512)               524800    \n",
      "_________________________________________________________________\n",
      "dense_81 (Dense)             (None, 256)               131328    \n",
      "_________________________________________________________________\n",
      "dense_82 (Dense)             (None, 10)                2570      \n",
      "=================================================================\n",
      "Total params: 1,807,626\n",
      "Trainable params: 1,807,626\n",
      "Non-trainable params: 0\n",
      "_________________________________________________________________\n"
     ]
    }
   ],
   "source": [
    "model.summary()"
   ]
  },
  {
   "cell_type": "markdown",
   "metadata": {},
   "source": [
    "Compiling the model and fitting it on our training dataset:"
   ]
  },
  {
   "cell_type": "code",
   "execution_count": 453,
   "metadata": {},
   "outputs": [
    {
     "name": "stdout",
     "output_type": "stream",
     "text": [
      "Epoch 1/100\n",
      "200/200 [==============================] - 5s 27ms/step - loss: 1.7406 - sparse_categorical_accuracy: 0.3675 - val_loss: 1.4772 - val_sparse_categorical_accuracy: 0.4650\n",
      "Epoch 2/100\n",
      "200/200 [==============================] - 5s 27ms/step - loss: 1.3433 - sparse_categorical_accuracy: 0.5269 - val_loss: 1.4131 - val_sparse_categorical_accuracy: 0.5181\n",
      "Epoch 3/100\n",
      "200/200 [==============================] - 5s 27ms/step - loss: 1.1002 - sparse_categorical_accuracy: 0.6169 - val_loss: 1.3955 - val_sparse_categorical_accuracy: 0.5256\n",
      "Epoch 4/100\n",
      "200/200 [==============================] - 5s 27ms/step - loss: 0.8532 - sparse_categorical_accuracy: 0.7020 - val_loss: 1.5132 - val_sparse_categorical_accuracy: 0.5250\n",
      "Epoch 5/100\n",
      "200/200 [==============================] - 5s 27ms/step - loss: 0.6198 - sparse_categorical_accuracy: 0.7823 - val_loss: 1.5519 - val_sparse_categorical_accuracy: 0.5350\n",
      "Epoch 6/100\n",
      "200/200 [==============================] - 5s 27ms/step - loss: 0.4305 - sparse_categorical_accuracy: 0.8527 - val_loss: 1.8567 - val_sparse_categorical_accuracy: 0.5281\n",
      "Epoch 7/100\n",
      "200/200 [==============================] - 5s 27ms/step - loss: 0.2850 - sparse_categorical_accuracy: 0.9048 - val_loss: 2.1331 - val_sparse_categorical_accuracy: 0.5244\n",
      "Epoch 8/100\n",
      "200/200 [==============================] - 6s 30ms/step - loss: 0.1994 - sparse_categorical_accuracy: 0.9352 - val_loss: 2.3369 - val_sparse_categorical_accuracy: 0.5288\n",
      "Epoch 9/100\n",
      "200/200 [==============================] - 6s 29ms/step - loss: 0.1475 - sparse_categorical_accuracy: 0.9528 - val_loss: 2.7368 - val_sparse_categorical_accuracy: 0.5462\n",
      "Epoch 10/100\n",
      "200/200 [==============================] - 6s 30ms/step - loss: 0.1227 - sparse_categorical_accuracy: 0.9598 - val_loss: 3.1876 - val_sparse_categorical_accuracy: 0.5088\n",
      "Epoch 11/100\n",
      "200/200 [==============================] - 6s 31ms/step - loss: 0.1155 - sparse_categorical_accuracy: 0.9664 - val_loss: 3.0666 - val_sparse_categorical_accuracy: 0.5263\n",
      "Epoch 12/100\n",
      "200/200 [==============================] - 6s 30ms/step - loss: 0.0906 - sparse_categorical_accuracy: 0.9691 - val_loss: 3.1211 - val_sparse_categorical_accuracy: 0.5294827 - sparse_categorical_accuracy: 0.9 - ETA: 1s - loss: 0.0837 - sparse_categ\n",
      "Epoch 13/100\n",
      "200/200 [==============================] - 6s 30ms/step - loss: 0.0894 - sparse_categorical_accuracy: 0.9767 - val_loss: 3.4613 - val_sparse_categorical_accuracy: 0.5344\n",
      "Epoch 14/100\n",
      "200/200 [==============================] - 6s 29ms/step - loss: 0.0850 - sparse_categorical_accuracy: 0.9734 - val_loss: 3.8100 - val_sparse_categorical_accuracy: 0.5163\n",
      "Epoch 15/100\n",
      "200/200 [==============================] - 6s 31ms/step - loss: 0.0794 - sparse_categorical_accuracy: 0.9772 - val_loss: 3.5015 - val_sparse_categorical_accuracy: 0.5312\n",
      "Epoch 16/100\n",
      "200/200 [==============================] - 6s 32ms/step - loss: 0.0717 - sparse_categorical_accuracy: 0.9798 - val_loss: 3.5875 - val_sparse_categorical_accuracy: 0.5275\n",
      "Epoch 17/100\n",
      "200/200 [==============================] - 6s 31ms/step - loss: 0.0591 - sparse_categorical_accuracy: 0.9820 - val_loss: 3.8987 - val_sparse_categorical_accuracy: 0.5400\n",
      "Epoch 18/100\n",
      "200/200 [==============================] - 6s 32ms/step - loss: 0.0547 - sparse_categorical_accuracy: 0.9866 - val_loss: 4.2130 - val_sparse_categorical_accuracy: 0.5200\n",
      "Epoch 19/100\n",
      "200/200 [==============================] - 6s 31ms/step - loss: 0.0633 - sparse_categorical_accuracy: 0.9831 - val_loss: 3.7044 - val_sparse_categorical_accuracy: 0.5206\n",
      "Epoch 20/100\n",
      "200/200 [==============================] - 6s 32ms/step - loss: 0.0543 - sparse_categorical_accuracy: 0.9844 - val_loss: 4.3100 - val_sparse_categorical_accuracy: 0.5294\n",
      "Epoch 21/100\n",
      "200/200 [==============================] - 7s 37ms/step - loss: 0.0502 - sparse_categorical_accuracy: 0.9864 - val_loss: 4.4951 - val_sparse_categorical_accuracy: 0.5106\n",
      "Epoch 22/100\n",
      "200/200 [==============================] - 7s 33ms/step - loss: 0.0637 - sparse_categorical_accuracy: 0.9856 - val_loss: 3.8585 - val_sparse_categorical_accuracy: 0.5319\n",
      "Epoch 23/100\n",
      "200/200 [==============================] - 7s 34ms/step - loss: 0.0402 - sparse_categorical_accuracy: 0.9875 - val_loss: 4.9091 - val_sparse_categorical_accuracy: 0.5169\n",
      "Epoch 24/100\n",
      "200/200 [==============================] - 7s 35ms/step - loss: 0.0543 - sparse_categorical_accuracy: 0.9873 - val_loss: 4.0875 - val_sparse_categorical_accuracy: 0.5300\n",
      "Epoch 25/100\n",
      "200/200 [==============================] - 6s 30ms/step - loss: 0.0311 - sparse_categorical_accuracy: 0.9923 - val_loss: 5.4976 - val_sparse_categorical_accuracy: 0.5219\n",
      "Epoch 26/100\n",
      "200/200 [==============================] - 6s 30ms/step - loss: 0.0356 - sparse_categorical_accuracy: 0.9912 - val_loss: 5.5794 - val_sparse_categorical_accuracy: 0.5219\n",
      "Epoch 27/100\n",
      "200/200 [==============================] - 6s 30ms/step - loss: 0.0589 - sparse_categorical_accuracy: 0.9866 - val_loss: 4.7197 - val_sparse_categorical_accuracy: 0.5125\n",
      "Epoch 28/100\n",
      "200/200 [==============================] - 5s 27ms/step - loss: 0.0448 - sparse_categorical_accuracy: 0.9891 - val_loss: 4.5219 - val_sparse_categorical_accuracy: 0.5375\n",
      "Epoch 29/100\n",
      "200/200 [==============================] - 5s 27ms/step - loss: 0.0408 - sparse_categorical_accuracy: 0.9914 - val_loss: 5.7221 - val_sparse_categorical_accuracy: 0.5269\n",
      "Epoch 30/100\n",
      "200/200 [==============================] - 5s 26ms/step - loss: 0.0346 - sparse_categorical_accuracy: 0.9930 - val_loss: 5.5321 - val_sparse_categorical_accuracy: 0.5200\n",
      "Epoch 31/100\n",
      "200/200 [==============================] - 5s 27ms/step - loss: 0.0419 - sparse_categorical_accuracy: 0.9919 - val_loss: 5.1803 - val_sparse_categorical_accuracy: 0.5375\n",
      "Epoch 32/100\n",
      "200/200 [==============================] - 5s 27ms/step - loss: 0.0415 - sparse_categorical_accuracy: 0.9892 - val_loss: 5.5347 - val_sparse_categorical_accuracy: 0.5244\n",
      "Epoch 33/100\n",
      "200/200 [==============================] - 6s 29ms/step - loss: 0.0325 - sparse_categorical_accuracy: 0.9920 - val_loss: 6.2028 - val_sparse_categorical_accuracy: 0.5325\n",
      "Epoch 34/100\n",
      "200/200 [==============================] - 6s 32ms/step - loss: 0.0474 - sparse_categorical_accuracy: 0.9894 - val_loss: 5.4118 - val_sparse_categorical_accuracy: 0.5288\n",
      "Epoch 35/100\n",
      "200/200 [==============================] - 5s 27ms/step - loss: 0.0467 - sparse_categorical_accuracy: 0.9909 - val_loss: 5.0659 - val_sparse_categorical_accuracy: 0.5106\n",
      "Epoch 36/100\n",
      "200/200 [==============================] - 5s 27ms/step - loss: 0.0227 - sparse_categorical_accuracy: 0.9956 - val_loss: 7.4583 - val_sparse_categorical_accuracy: 0.5244\n",
      "Epoch 37/100\n",
      "200/200 [==============================] - 5s 27ms/step - loss: 0.0378 - sparse_categorical_accuracy: 0.9947 - val_loss: 7.1591 - val_sparse_categorical_accuracy: 0.5325\n",
      "Epoch 38/100\n",
      "200/200 [==============================] - 5s 27ms/step - loss: 0.0468 - sparse_categorical_accuracy: 0.9920 - val_loss: 6.5645 - val_sparse_categorical_accuracy: 0.5387\n",
      "Epoch 39/100\n",
      "200/200 [==============================] - 5s 27ms/step - loss: 0.0303 - sparse_categorical_accuracy: 0.9934 - val_loss: 7.3160 - val_sparse_categorical_accuracy: 0.5131\n",
      "Epoch 40/100\n",
      "200/200 [==============================] - 6s 28ms/step - loss: 0.0361 - sparse_categorical_accuracy: 0.9922 - val_loss: 6.1341 - val_sparse_categorical_accuracy: 0.5312\n",
      "Epoch 41/100\n",
      "200/200 [==============================] - 5s 27ms/step - loss: 0.0420 - sparse_categorical_accuracy: 0.9923 - val_loss: 6.4775 - val_sparse_categorical_accuracy: 0.5344\n",
      "Epoch 42/100\n",
      "200/200 [==============================] - 6s 28ms/step - loss: 0.0508 - sparse_categorical_accuracy: 0.9917 - val_loss: 6.2026 - val_sparse_categorical_accuracy: 0.5156\n",
      "Epoch 43/100\n",
      "200/200 [==============================] - 6s 30ms/step - loss: 0.0355 - sparse_categorical_accuracy: 0.9942 - val_loss: 6.6917 - val_sparse_categorical_accuracy: 0.5394\n",
      "Epoch 44/100\n",
      "200/200 [==============================] - 6s 31ms/step - loss: 0.0321 - sparse_categorical_accuracy: 0.9961 - val_loss: 7.0885 - val_sparse_categorical_accuracy: 0.5331\n",
      "Epoch 45/100\n",
      "200/200 [==============================] - 8s 39ms/step - loss: 0.0319 - sparse_categorical_accuracy: 0.9941 - val_loss: 6.4259 - val_sparse_categorical_accuracy: 0.5306\n",
      "Epoch 46/100\n",
      "200/200 [==============================] - 7s 35ms/step - loss: 0.0514 - sparse_categorical_accuracy: 0.9933 - val_loss: 6.5736 - val_sparse_categorical_accuracy: 0.5181\n",
      "Epoch 47/100\n",
      "200/200 [==============================] - 8s 38ms/step - loss: 0.0377 - sparse_categorical_accuracy: 0.9928 - val_loss: 7.5493 - val_sparse_categorical_accuracy: 0.5238\n",
      "Epoch 48/100\n",
      "200/200 [==============================] - 6s 32ms/step - loss: 0.0419 - sparse_categorical_accuracy: 0.9930 - val_loss: 6.9300 - val_sparse_categorical_accuracy: 0.5100\n",
      "Epoch 49/100\n",
      "200/200 [==============================] - 7s 36ms/step - loss: 0.0537 - sparse_categorical_accuracy: 0.9906 - val_loss: 6.2049 - val_sparse_categorical_accuracy: 0.5206\n",
      "Epoch 50/100\n",
      "200/200 [==============================] - 7s 34ms/step - loss: 0.0411 - sparse_categorical_accuracy: 0.9922 - val_loss: 7.0030 - val_sparse_categorical_accuracy: 0.5169\n",
      "Epoch 51/100\n",
      "200/200 [==============================] - 7s 34ms/step - loss: 0.0429 - sparse_categorical_accuracy: 0.9934 - val_loss: 7.2303 - val_sparse_categorical_accuracy: 0.5219\n",
      "Epoch 52/100\n",
      "200/200 [==============================] - 5s 26ms/step - loss: 0.0533 - sparse_categorical_accuracy: 0.9931 - val_loss: 6.2660 - val_sparse_categorical_accuracy: 0.5312\n",
      "Epoch 53/100\n",
      "200/200 [==============================] - 5s 26ms/step - loss: 0.0325 - sparse_categorical_accuracy: 0.9952 - val_loss: 8.6698 - val_sparse_categorical_accuracy: 0.5275\n",
      "Epoch 54/100\n",
      "200/200 [==============================] - 6s 30ms/step - loss: 0.0379 - sparse_categorical_accuracy: 0.9941 - val_loss: 7.7254 - val_sparse_categorical_accuracy: 0.5231\n",
      "Epoch 55/100\n",
      "200/200 [==============================] - 6s 29ms/step - loss: 0.0190 - sparse_categorical_accuracy: 0.9964 - val_loss: 9.3706 - val_sparse_categorical_accuracy: 0.5294\n",
      "Epoch 56/100\n",
      "200/200 [==============================] - 6s 29ms/step - loss: 0.0329 - sparse_categorical_accuracy: 0.9970 - val_loss: 11.4398 - val_sparse_categorical_accuracy: 0.5325\n",
      "Epoch 57/100\n",
      "200/200 [==============================] - 6s 30ms/step - loss: 0.0432 - sparse_categorical_accuracy: 0.9920 - val_loss: 8.7831 - val_sparse_categorical_accuracy: 0.5138\n",
      "Epoch 58/100\n",
      "200/200 [==============================] - 6s 30ms/step - loss: 0.0392 - sparse_categorical_accuracy: 0.9947 - val_loss: 8.1437 - val_sparse_categorical_accuracy: 0.5319\n",
      "Epoch 59/100\n",
      "200/200 [==============================] - 6s 28ms/step - loss: 0.0430 - sparse_categorical_accuracy: 0.9941 - val_loss: 8.5552 - val_sparse_categorical_accuracy: 0.5325: 1s - loss: 0.0506 - sp\n",
      "Epoch 60/100\n",
      "200/200 [==============================] - 6s 30ms/step - loss: 0.0359 - sparse_categorical_accuracy: 0.9956 - val_loss: 8.6470 - val_sparse_categorical_accuracy: 0.5181\n",
      "Epoch 61/100\n",
      "200/200 [==============================] - 6s 30ms/step - loss: 0.0398 - sparse_categorical_accuracy: 0.9930 - val_loss: 8.0144 - val_sparse_categorical_accuracy: 0.5231\n",
      "Epoch 62/100\n",
      "200/200 [==============================] - 6s 31ms/step - loss: 0.0347 - sparse_categorical_accuracy: 0.9955 - val_loss: 8.3175 - val_sparse_categorical_accuracy: 0.5144\n",
      "Epoch 63/100\n",
      "200/200 [==============================] - 6s 30ms/step - loss: 0.0342 - sparse_categorical_accuracy: 0.9948 - val_loss: 8.9756 - val_sparse_categorical_accuracy: 0.5263\n",
      "Epoch 64/100\n",
      "200/200 [==============================] - 6s 30ms/step - loss: 0.0296 - sparse_categorical_accuracy: 0.9962 - val_loss: 10.7362 - val_sparse_categorical_accuracy: 0.5138\n",
      "Epoch 65/100\n",
      "200/200 [==============================] - 6s 31ms/step - loss: 0.0532 - sparse_categorical_accuracy: 0.9927 - val_loss: 7.0528 - val_sparse_categorical_accuracy: 0.5387\n",
      "Epoch 66/100\n",
      "200/200 [==============================] - 6s 29ms/step - loss: 0.0393 - sparse_categorical_accuracy: 0.9937 - val_loss: 9.0899 - val_sparse_categorical_accuracy: 0.5369\n",
      "Epoch 67/100\n",
      "200/200 [==============================] - 5s 27ms/step - loss: 0.0564 - sparse_categorical_accuracy: 0.9923 - val_loss: 8.7973 - val_sparse_categorical_accuracy: 0.5356\n",
      "Epoch 68/100\n",
      "200/200 [==============================] - 5s 27ms/step - loss: 0.0269 - sparse_categorical_accuracy: 0.9964 - val_loss: 11.1822 - val_sparse_categorical_accuracy: 0.5412\n",
      "Epoch 69/100\n",
      "200/200 [==============================] - 5s 27ms/step - loss: 0.0250 - sparse_categorical_accuracy: 0.9972 - val_loss: 10.7126 - val_sparse_categorical_accuracy: 0.5381\n",
      "Epoch 70/100\n",
      "200/200 [==============================] - 5s 26ms/step - loss: 0.0402 - sparse_categorical_accuracy: 0.9945 - val_loss: 10.7019 - val_sparse_categorical_accuracy: 0.5200\n",
      "Epoch 71/100\n",
      "200/200 [==============================] - 6s 28ms/step - loss: 0.0637 - sparse_categorical_accuracy: 0.9945 - val_loss: 9.4112 - val_sparse_categorical_accuracy: 0.5250\n",
      "Epoch 72/100\n",
      "200/200 [==============================] - 5s 27ms/step - loss: 0.0473 - sparse_categorical_accuracy: 0.9939 - val_loss: 9.7483 - val_sparse_categorical_accuracy: 0.5337\n",
      "Epoch 73/100\n",
      "200/200 [==============================] - 5s 26ms/step - loss: 0.0262 - sparse_categorical_accuracy: 0.9952 - val_loss: 12.5217 - val_sparse_categorical_accuracy: 0.5213\n",
      "Epoch 74/100\n",
      "200/200 [==============================] - 5s 27ms/step - loss: 0.0507 - sparse_categorical_accuracy: 0.9928 - val_loss: 10.2937 - val_sparse_categorical_accuracy: 0.5419\n",
      "Epoch 75/100\n",
      "200/200 [==============================] - 5s 27ms/step - loss: 0.0450 - sparse_categorical_accuracy: 0.9934 - val_loss: 8.7571 - val_sparse_categorical_accuracy: 0.5281\n",
      "Epoch 76/100\n",
      "200/200 [==============================] - 5s 27ms/step - loss: 0.0206 - sparse_categorical_accuracy: 0.9966 - val_loss: 11.3776 - val_sparse_categorical_accuracy: 0.5400\n",
      "Epoch 77/100\n",
      "200/200 [==============================] - 6s 28ms/step - loss: 0.0160 - sparse_categorical_accuracy: 0.9981 - val_loss: 15.0929 - val_sparse_categorical_accuracy: 0.5231\n",
      "Epoch 78/100\n",
      "200/200 [==============================] - 5s 27ms/step - loss: 0.0695 - sparse_categorical_accuracy: 0.9925 - val_loss: 9.3413 - val_sparse_categorical_accuracy: 0.5412\n",
      "Epoch 79/100\n",
      "200/200 [==============================] - 5s 27ms/step - loss: 0.0386 - sparse_categorical_accuracy: 0.9937 - val_loss: 11.8348 - val_sparse_categorical_accuracy: 0.5269\n",
      "Epoch 80/100\n",
      "200/200 [==============================] - 5s 27ms/step - loss: 0.0328 - sparse_categorical_accuracy: 0.9958 - val_loss: 10.1580 - val_sparse_categorical_accuracy: 0.5269\n",
      "Epoch 81/100\n",
      "200/200 [==============================] - 5s 27ms/step - loss: 0.0425 - sparse_categorical_accuracy: 0.9953 - val_loss: 9.4720 - val_sparse_categorical_accuracy: 0.5350\n",
      "Epoch 82/100\n",
      "200/200 [==============================] - 7s 35ms/step - loss: 0.0255 - sparse_categorical_accuracy: 0.9944 - val_loss: 13.7124 - val_sparse_categorical_accuracy: 0.5225\n",
      "Epoch 83/100\n",
      "200/200 [==============================] - 6s 31ms/step - loss: 0.0378 - sparse_categorical_accuracy: 0.9956 - val_loss: 12.6818 - val_sparse_categorical_accuracy: 0.5294\n",
      "Epoch 84/100\n",
      "200/200 [==============================] - 6s 28ms/step - loss: 0.0609 - sparse_categorical_accuracy: 0.9944 - val_loss: 9.9347 - val_sparse_categorical_accuracy: 0.5256\n",
      "Epoch 85/100\n",
      "200/200 [==============================] - 6s 28ms/step - loss: 0.0362 - sparse_categorical_accuracy: 0.9931 - val_loss: 9.7881 - val_sparse_categorical_accuracy: 0.5325\n",
      "Epoch 86/100\n",
      "200/200 [==============================] - 6s 29ms/step - loss: 0.0698 - sparse_categorical_accuracy: 0.9942 - val_loss: 8.3611 - val_sparse_categorical_accuracy: 0.5369\n",
      "Epoch 87/100\n",
      "200/200 [==============================] - 6s 29ms/step - loss: 0.0209 - sparse_categorical_accuracy: 0.9977 - val_loss: 13.1515 - val_sparse_categorical_accuracy: 0.5250\n",
      "Epoch 88/100\n",
      "200/200 [==============================] - 6s 28ms/step - loss: 0.0284 - sparse_categorical_accuracy: 0.9975 - val_loss: 16.0437 - val_sparse_categorical_accuracy: 0.5200\n",
      "Epoch 89/100\n",
      "200/200 [==============================] - 6s 29ms/step - loss: 0.0226 - sparse_categorical_accuracy: 0.9980 - val_loss: 15.3546 - val_sparse_categorical_accuracy: 0.5238\n",
      "Epoch 90/100\n",
      "200/200 [==============================] - 6s 28ms/step - loss: 0.0346 - sparse_categorical_accuracy: 0.9961 - val_loss: 13.0366 - val_sparse_categorical_accuracy: 0.5131\n",
      "Epoch 91/100\n",
      "200/200 [==============================] - 6s 28ms/step - loss: 0.0366 - sparse_categorical_accuracy: 0.9945 - val_loss: 11.8614 - val_sparse_categorical_accuracy: 0.5275\n",
      "Epoch 92/100\n",
      "200/200 [==============================] - 6s 28ms/step - loss: 0.0368 - sparse_categorical_accuracy: 0.9953 - val_loss: 15.6761 - val_sparse_categorical_accuracy: 0.5138\n",
      "Epoch 93/100\n",
      "200/200 [==============================] - 6s 29ms/step - loss: 0.0253 - sparse_categorical_accuracy: 0.9972 - val_loss: 18.6757 - val_sparse_categorical_accuracy: 0.5219\n",
      "Epoch 94/100\n",
      "200/200 [==============================] - 6s 28ms/step - loss: 0.0496 - sparse_categorical_accuracy: 0.9952 - val_loss: 13.1739 - val_sparse_categorical_accuracy: 0.5169\n",
      "Epoch 95/100\n",
      "200/200 [==============================] - 6s 28ms/step - loss: 0.0598 - sparse_categorical_accuracy: 0.9944 - val_loss: 12.1663 - val_sparse_categorical_accuracy: 0.5050\n",
      "Epoch 96/100\n",
      "200/200 [==============================] - 6s 29ms/step - loss: 0.0341 - sparse_categorical_accuracy: 0.9955 - val_loss: 15.2058 - val_sparse_categorical_accuracy: 0.5088327 - spa\n",
      "Epoch 97/100\n",
      "200/200 [==============================] - 6s 29ms/step - loss: 0.0512 - sparse_categorical_accuracy: 0.9950 - val_loss: 12.2402 - val_sparse_categorical_accuracy: 0.5275\n",
      "Epoch 98/100\n",
      "200/200 [==============================] - 6s 28ms/step - loss: 0.0428 - sparse_categorical_accuracy: 0.9950 - val_loss: 15.5196 - val_sparse_categorical_accuracy: 0.5163\n",
      "Epoch 99/100\n",
      "200/200 [==============================] - 6s 29ms/step - loss: 0.0534 - sparse_categorical_accuracy: 0.9942 - val_loss: 11.7605 - val_sparse_categorical_accuracy: 0.5225\n",
      "Epoch 100/100\n",
      "200/200 [==============================] - 6s 28ms/step - loss: 0.0220 - sparse_categorical_accuracy: 0.9975 - val_loss: 14.7722 - val_sparse_categorical_accuracy: 0.5206\n"
     ]
    }
   ],
   "source": [
    "nn_model.compile(optimizer=tf.keras.optimizers.RMSprop(), \n",
    "              loss=tf.keras.losses.SparseCategoricalCrossentropy(), \n",
    "              metrics=tf.keras.metrics.SparseCategoricalAccuracy())\n",
    "\n",
    "history = nn_model.fit(x_train, y_train, epochs=100, validation_split=0.2, verbose=1)"
   ]
  },
  {
   "cell_type": "markdown",
   "metadata": {},
   "source": [
    "Plotting the accuracy and loss curves(although they don't look the best!)"
   ]
  },
  {
   "cell_type": "code",
   "execution_count": 511,
   "metadata": {},
   "outputs": [
    {
     "data": {
      "image/png": "[encoded data removed]",
      "text/plain": [
       "<Figure size 720x360 with 2 Axes>"
      ]
     },
     "metadata": {
      "needs_background": "light"
     },
     "output_type": "display_data"
    }
   ],
   "source": [
    "plt.figure(figsize=[10,5])\n",
    "plt.subplot(121)\n",
    "plt.plot(history.history['sparse_categorical_accuracy'])\n",
    "plt.plot(history.history['val_sparse_categorical_accuracy'])\n",
    "plt.xlabel('Epoch')\n",
    "plt.ylabel('Accuracy')\n",
    "plt.legend(['Training Accuracy','Validation Accuracy'])\n",
    "plt.title('Accuracy Curves')\n",
    "\n",
    "plt.subplot(122)\n",
    "plt.plot(history.history['loss'])\n",
    "plt.plot(history.history['val_loss'])\n",
    "plt.xlabel('Epoch')\n",
    "plt.ylabel('Loss')\n",
    "plt.legend(['Training Loss', 'Validation Loss'])\n",
    "plt.title('Loss Curves')\n",
    "plt.show()"
   ]
  },
  {
   "cell_type": "markdown",
   "metadata": {},
   "source": [
    "Getting the precicios and recll value for each of the 10 categorie"
   ]
  },
  {
   "cell_type": "code",
   "execution_count": 456,
   "metadata": {},
   "outputs": [
    {
     "name": "stdout",
     "output_type": "stream",
     "text": [
      "              precision    recall  f1-score   support\n",
      "\n",
      "   airplanes       0.55      0.69      0.61       100\n",
      "  automobile       0.65      0.56      0.60       100\n",
      "        bird       0.49      0.42      0.45       100\n",
      "         cat       0.36      0.33      0.34       100\n",
      "        deer       0.45      0.53      0.49       100\n",
      "         dog       0.44      0.54      0.48       100\n",
      "        frog       0.68      0.60      0.64       100\n",
      "       horse       0.66      0.55      0.60       100\n",
      "        ship       0.56      0.57      0.57       100\n",
      "       truck       0.65      0.64      0.64       100\n",
      "\n",
      "    accuracy                           0.54      1000\n",
      "   macro avg       0.55      0.54      0.54      1000\n",
      "weighted avg       0.55      0.54      0.54      1000\n",
      "\n"
     ]
    }
   ],
   "source": [
    "nn_y_pred = nn_model.predict_classes(nn_test_images)\n",
    "print(classification_report(test_labels, nn_y_pred, target_names = labels))"
   ]
  },
  {
   "cell_type": "markdown",
   "metadata": {},
   "source": [
    "Calculating the confusion matrix for the developed neural network model:"
   ]
  },
  {
   "cell_type": "code",
   "execution_count": 457,
   "metadata": {},
   "outputs": [],
   "source": [
    "nn_Cmatrix = confusion_matrix(test_labels, nn_y_pred)"
   ]
  },
  {
   "cell_type": "markdown",
   "metadata": {},
   "source": [
    "THIS FUNCTION WAS DIRECTLY COPIED FROM THE SICKIT-LEARN’S WEBSITE."
   ]
  },
  {
   "cell_type": "code",
   "execution_count": 534,
   "metadata": {},
   "outputs": [],
   "source": [
    "def plot_confusion_matrix(cm, classes,\n",
    "                        normalize=False,\n",
    "                        title='Confusion matrix',\n",
    "                        cmap=plt.cm.Blues):\n",
    "\n",
    "    plt.imshow(cm, interpolation='nearest', cmap=cmap)\n",
    "    plt.title(title)\n",
    "    plt.colorbar()\n",
    "    tick_marks = np.arange(len(classes))\n",
    "    plt.xticks(tick_marks, classes, rotation=45)\n",
    "    plt.yticks(tick_marks, classes)\n",
    "\n",
    "    if normalize:\n",
    "        cm = cm.astype('float') / cm.sum(axis=1)[:, np.newaxis]\n",
    "        print(\"Normalized confusion matrix\")\n",
    "    else:\n",
    "        print('Confusion matrix, without normalization')\n",
    "\n",
    "\n",
    "    thresh = cm.max() / 2.\n",
    "    for i, j in itertools.product(range(cm.shape[0]), range(cm.shape[1])):\n",
    "        plt.text(j, i, cm[i, j],\n",
    "            horizontalalignment=\"center\",\n",
    "            color=\"white\" if cm[i, j] > thresh else \"black\")\n",
    "\n",
    "    plt.tight_layout()\n",
    "    plt.ylabel('True label')\n",
    "    plt.xlabel('Predicted label')"
   ]
  },
  {
   "cell_type": "markdown",
   "metadata": {},
   "source": [
    "Calling the implemented function to show the confusion matrics"
   ]
  },
  {
   "cell_type": "code",
   "execution_count": 535,
   "metadata": {},
   "outputs": [
    {
     "name": "stdout",
     "output_type": "stream",
     "text": [
      "Confusion matrix, without normalization\n"
     ]
    },
    {
     "data": {
      "image/png": "[encoded data removed]",
      "text/plain": [
       "<Figure size 576x576 with 2 Axes>"
      ]
     },
     "metadata": {
      "needs_background": "light"
     },
     "output_type": "display_data"
    }
   ],
   "source": [
    "fig,ax = plt.subplots(figsize = (8,8))\n",
    "plot_confusion_matrix(cm = nn_Cmatrix, classes = labels , title = \"Neural Network's Confusion Matrix\")"
   ]
  },
  {
   "cell_type": "code",
   "execution_count": 507,
   "metadata": {},
   "outputs": [],
   "source": [
    "x_train, x_test, y_train, y_test = train_test_split(train_images, train_labels, test_size=0.2 , random_state = 42)"
   ]
  },
  {
   "cell_type": "code",
   "execution_count": 508,
   "metadata": {},
   "outputs": [],
   "source": [
    "cnn_model = tf.keras.Sequential()\n",
    "cnn_model.add(tf.keras.layers.Conv2D(32, (3, 3), padding='same',\n",
    "                 input_shape=[32,32,3]))\n",
    "cnn_model.add(tf.keras.layers.Activation('relu'))\n",
    "cnn_model.add(tf.keras.layers.Conv2D(32, (3, 3)))\n",
    "cnn_model.add(tf.keras.layers.Activation('relu'))\n",
    "cnn_model.add(tf.keras.layers.MaxPooling2D((2, 2)))\n",
    "\n",
    "cnn_model.add(tf.keras.layers.Conv2D(64, (3, 3), padding='same'))\n",
    "cnn_model.add(tf.keras.layers.Activation('relu'))\n",
    "cnn_model.add(tf.keras.layers.Conv2D(64, (3, 3)))\n",
    "cnn_model.add(tf.keras.layers.Activation('relu'))\n",
    "cnn_model.add(tf.keras.layers.MaxPooling2D((2, 2)))\n",
    "\n",
    "cnn_model.add(tf.keras.layers.Conv2D(128, (3, 3), padding='same'))\n",
    "cnn_model.add(tf.keras.layers.Activation('relu'))\n",
    "cnn_model.add(tf.keras.layers.Conv2D(128, (3, 3)))\n",
    "cnn_model.add(tf.keras.layers.Activation('relu'))\n",
    "cnn_model.add(tf.keras.layers.MaxPooling2D((2, 2)))\n",
    "\n",
    "cnn_model.add(tf.keras.layers.Flatten())\n",
    "cnn_model.add(tf.keras.layers.Dense((256)))\n",
    "cnn_model.add(tf.keras.layers.Activation('relu'))\n",
    "cnn_model.add(tf.keras.layers.Dense(len(np.unique(y_train))))\n",
    "cnn_model.add(tf.keras.layers.Activation('softmax'))"
   ]
  },
  {
   "cell_type": "code",
   "execution_count": 509,
   "metadata": {},
   "outputs": [
    {
     "name": "stdout",
     "output_type": "stream",
     "text": [
      "Model: \"sequential_35\"\n",
      "_________________________________________________________________\n",
      "Layer (type)                 Output Shape              Param #   \n",
      "=================================================================\n",
      "conv2d_46 (Conv2D)           (None, 32, 32, 32)        896       \n",
      "_________________________________________________________________\n",
      "activation_38 (Activation)   (None, 32, 32, 32)        0         \n",
      "_________________________________________________________________\n",
      "conv2d_47 (Conv2D)           (None, 30, 30, 32)        9248      \n",
      "_________________________________________________________________\n",
      "activation_39 (Activation)   (None, 30, 30, 32)        0         \n",
      "_________________________________________________________________\n",
      "max_pooling2d_19 (MaxPooling (None, 15, 15, 32)        0         \n",
      "_________________________________________________________________\n",
      "conv2d_48 (Conv2D)           (None, 15, 15, 64)        18496     \n",
      "_________________________________________________________________\n",
      "activation_40 (Activation)   (None, 15, 15, 64)        0         \n",
      "_________________________________________________________________\n",
      "conv2d_49 (Conv2D)           (None, 13, 13, 64)        36928     \n",
      "_________________________________________________________________\n",
      "activation_41 (Activation)   (None, 13, 13, 64)        0         \n",
      "_________________________________________________________________\n",
      "max_pooling2d_20 (MaxPooling (None, 6, 6, 64)          0         \n",
      "_________________________________________________________________\n",
      "conv2d_50 (Conv2D)           (None, 6, 6, 128)         73856     \n",
      "_________________________________________________________________\n",
      "activation_42 (Activation)   (None, 6, 6, 128)         0         \n",
      "_________________________________________________________________\n",
      "conv2d_51 (Conv2D)           (None, 4, 4, 128)         147584    \n",
      "_________________________________________________________________\n",
      "activation_43 (Activation)   (None, 4, 4, 128)         0         \n",
      "_________________________________________________________________\n",
      "max_pooling2d_21 (MaxPooling (None, 2, 2, 128)         0         \n",
      "_________________________________________________________________\n",
      "flatten_2 (Flatten)          (None, 512)               0         \n",
      "_________________________________________________________________\n",
      "dense_99 (Dense)             (None, 256)               131328    \n",
      "_________________________________________________________________\n",
      "activation_44 (Activation)   (None, 256)               0         \n",
      "_________________________________________________________________\n",
      "dense_100 (Dense)            (None, 10)                2570      \n",
      "_________________________________________________________________\n",
      "activation_45 (Activation)   (None, 10)                0         \n",
      "=================================================================\n",
      "Total params: 420,906\n",
      "Trainable params: 420,906\n",
      "Non-trainable params: 0\n",
      "_________________________________________________________________\n"
     ]
    }
   ],
   "source": [
    "cnn_model.summary()"
   ]
  },
  {
   "cell_type": "code",
   "execution_count": 510,
   "metadata": {},
   "outputs": [
    {
     "name": "stdout",
     "output_type": "stream",
     "text": [
      "Epoch 1/100\n",
      "200/200 [==============================] - 22s 108ms/step - loss: 2.1350 - sparse_categorical_accuracy: 0.2223 - val_loss: 1.7656 - val_sparse_categorical_accuracy: 0.3562\n",
      "Epoch 2/100\n",
      "200/200 [==============================] - 25s 125ms/step - loss: 1.8007 - sparse_categorical_accuracy: 0.3428 - val_loss: 1.5606 - val_sparse_categorical_accuracy: 0.4300\n",
      "Epoch 3/100\n",
      "200/200 [==============================] - 25s 124ms/step - loss: 1.6173 - sparse_categorical_accuracy: 0.4152 - val_loss: 1.6287 - val_sparse_categorical_accuracy: 0.4300\n",
      "Epoch 4/100\n",
      "200/200 [==============================] - 24s 122ms/step - loss: 1.4501 - sparse_categorical_accuracy: 0.4787 - val_loss: 1.4354 - val_sparse_categorical_accuracy: 0.4781\n",
      "Epoch 5/100\n",
      "200/200 [==============================] - 27s 133ms/step - loss: 1.2853 - sparse_categorical_accuracy: 0.5406 - val_loss: 1.2705 - val_sparse_categorical_accuracy: 0.5306\n",
      "Epoch 6/100\n",
      "200/200 [==============================] - 27s 134ms/step - loss: 1.1571 - sparse_categorical_accuracy: 0.5861 - val_loss: 1.2634 - val_sparse_categorical_accuracy: 0.5462\n",
      "Epoch 7/100\n",
      "200/200 [==============================] - 24s 118ms/step - loss: 0.9997 - sparse_categorical_accuracy: 0.6489 - val_loss: 1.7579 - val_sparse_categorical_accuracy: 0.4600\n",
      "Epoch 8/100\n",
      "200/200 [==============================] - 26s 128ms/step - loss: 0.8601 - sparse_categorical_accuracy: 0.6973 - val_loss: 1.2852 - val_sparse_categorical_accuracy: 0.5600\n",
      "Epoch 9/100\n",
      "200/200 [==============================] - 28s 141ms/step - loss: 0.7372 - sparse_categorical_accuracy: 0.7448 - val_loss: 1.3923 - val_sparse_categorical_accuracy: 0.5544\n",
      "Epoch 10/100\n",
      "200/200 [==============================] - 29s 145ms/step - loss: 0.5872 - sparse_categorical_accuracy: 0.7941 - val_loss: 1.6270 - val_sparse_categorical_accuracy: 0.5244\n",
      "Epoch 11/100\n",
      "200/200 [==============================] - 26s 130ms/step - loss: 0.4714 - sparse_categorical_accuracy: 0.8350 - val_loss: 1.4549 - val_sparse_categorical_accuracy: 0.5956\n",
      "Epoch 12/100\n",
      "200/200 [==============================] - 25s 125ms/step - loss: 0.3812 - sparse_categorical_accuracy: 0.8730 - val_loss: 1.5679 - val_sparse_categorical_accuracy: 0.5881\n",
      "Epoch 13/100\n",
      "200/200 [==============================] - 25s 126ms/step - loss: 0.3021 - sparse_categorical_accuracy: 0.8950 - val_loss: 1.8752 - val_sparse_categorical_accuracy: 0.5856\n",
      "Epoch 14/100\n",
      "200/200 [==============================] - 27s 136ms/step - loss: 0.2604 - sparse_categorical_accuracy: 0.9125 - val_loss: 2.0650 - val_sparse_categorical_accuracy: 0.5788\n",
      "Epoch 15/100\n",
      "200/200 [==============================] - 24s 122ms/step - loss: 0.2052 - sparse_categorical_accuracy: 0.9258 - val_loss: 2.5028 - val_sparse_categorical_accuracy: 0.5594\n",
      "Epoch 16/100\n",
      "200/200 [==============================] - 26s 128ms/step - loss: 0.1919 - sparse_categorical_accuracy: 0.9339 - val_loss: 2.4790 - val_sparse_categorical_accuracy: 0.5681\n",
      "Epoch 17/100\n",
      "200/200 [==============================] - 25s 125ms/step - loss: 0.1816 - sparse_categorical_accuracy: 0.9408 - val_loss: 2.5500 - val_sparse_categorical_accuracy: 0.5688\n",
      "Epoch 18/100\n",
      "200/200 [==============================] - 25s 123ms/step - loss: 0.1616 - sparse_categorical_accuracy: 0.9477 - val_loss: 2.9926 - val_sparse_categorical_accuracy: 0.5769\n",
      "Epoch 19/100\n",
      "200/200 [==============================] - 25s 125ms/step - loss: 0.1641 - sparse_categorical_accuracy: 0.9478 - val_loss: 2.6711 - val_sparse_categorical_accuracy: 0.5806\n",
      "Epoch 20/100\n",
      "200/200 [==============================] - 27s 135ms/step - loss: 0.1424 - sparse_categorical_accuracy: 0.9564 - val_loss: 2.8681 - val_sparse_categorical_accuracy: 0.5650\n",
      "Epoch 21/100\n",
      "200/200 [==============================] - 25s 127ms/step - loss: 0.1537 - sparse_categorical_accuracy: 0.9514 - val_loss: 3.2446 - val_sparse_categorical_accuracy: 0.5713\n",
      "Epoch 22/100\n",
      "200/200 [==============================] - 26s 129ms/step - loss: 0.1412 - sparse_categorical_accuracy: 0.9572 - val_loss: 3.1384 - val_sparse_categorical_accuracy: 0.5587\n",
      "Epoch 23/100\n",
      "200/200 [==============================] - 26s 131ms/step - loss: 0.1271 - sparse_categorical_accuracy: 0.9589 - val_loss: 3.3116 - val_sparse_categorical_accuracy: 0.5444\n",
      "Epoch 24/100\n",
      "200/200 [==============================] - 25s 123ms/step - loss: 0.1152 - sparse_categorical_accuracy: 0.9644 - val_loss: 3.7284 - val_sparse_categorical_accuracy: 0.5794\n",
      "Epoch 25/100\n",
      "200/200 [==============================] - 24s 121ms/step - loss: 0.1351 - sparse_categorical_accuracy: 0.9598 - val_loss: 3.8854 - val_sparse_categorical_accuracy: 0.5587\n",
      "Epoch 26/100\n",
      "200/200 [==============================] - 26s 128ms/step - loss: 0.1208 - sparse_categorical_accuracy: 0.9633 - val_loss: 3.4726 - val_sparse_categorical_accuracy: 0.5581\n",
      "Epoch 27/100\n",
      "200/200 [==============================] - 26s 130ms/step - loss: 0.1192 - sparse_categorical_accuracy: 0.9680 - val_loss: 3.6659 - val_sparse_categorical_accuracy: 0.5863\n",
      "Epoch 28/100\n",
      "200/200 [==============================] - 25s 123ms/step - loss: 0.1427 - sparse_categorical_accuracy: 0.9613 - val_loss: 3.6263 - val_sparse_categorical_accuracy: 0.5719\n",
      "Epoch 29/100\n",
      "200/200 [==============================] - 23s 117ms/step - loss: 0.1101 - sparse_categorical_accuracy: 0.9678 - val_loss: 4.3694 - val_sparse_categorical_accuracy: 0.5694\n",
      "Epoch 30/100\n",
      "200/200 [==============================] - 24s 119ms/step - loss: 0.1275 - sparse_categorical_accuracy: 0.9628 - val_loss: 3.5324 - val_sparse_categorical_accuracy: 0.5794\n",
      "Epoch 31/100\n",
      "200/200 [==============================] - 23s 115ms/step - loss: 0.1099 - sparse_categorical_accuracy: 0.9695 - val_loss: 4.9712 - val_sparse_categorical_accuracy: 0.5544\n",
      "Epoch 32/100\n",
      "200/200 [==============================] - 24s 121ms/step - loss: 0.1124 - sparse_categorical_accuracy: 0.9688 - val_loss: 3.6530 - val_sparse_categorical_accuracy: 0.5788\n",
      "Epoch 33/100\n",
      "200/200 [==============================] - 23s 117ms/step - loss: 0.1199 - sparse_categorical_accuracy: 0.9698 - val_loss: 4.7654 - val_sparse_categorical_accuracy: 0.5638\n",
      "Epoch 34/100\n",
      "200/200 [==============================] - 24s 118ms/step - loss: 0.1001 - sparse_categorical_accuracy: 0.9711 - val_loss: 4.3014 - val_sparse_categorical_accuracy: 0.5681\n",
      "Epoch 35/100\n",
      "200/200 [==============================] - 25s 123ms/step - loss: 0.1152 - sparse_categorical_accuracy: 0.9686 - val_loss: 3.9757 - val_sparse_categorical_accuracy: 0.5581\n",
      "Epoch 36/100\n",
      "200/200 [==============================] - 24s 122ms/step - loss: 0.1016 - sparse_categorical_accuracy: 0.9716 - val_loss: 4.6726 - val_sparse_categorical_accuracy: 0.5725\n",
      "Epoch 37/100\n",
      "200/200 [==============================] - 23s 116ms/step - loss: 0.1161 - sparse_categorical_accuracy: 0.9705 - val_loss: 4.0409 - val_sparse_categorical_accuracy: 0.5844\n",
      "Epoch 38/100\n",
      "200/200 [==============================] - 24s 120ms/step - loss: 0.0974 - sparse_categorical_accuracy: 0.9758 - val_loss: 5.2792 - val_sparse_categorical_accuracy: 0.5619\n",
      "Epoch 39/100\n",
      "200/200 [==============================] - 23s 114ms/step - loss: 0.1061 - sparse_categorical_accuracy: 0.9714 - val_loss: 5.0291 - val_sparse_categorical_accuracy: 0.5656\n",
      "Epoch 40/100\n",
      "200/200 [==============================] - 24s 118ms/step - loss: 0.1126 - sparse_categorical_accuracy: 0.9708 - val_loss: 3.7137 - val_sparse_categorical_accuracy: 0.5794\n",
      "Epoch 41/100\n",
      "200/200 [==============================] - 23s 115ms/step - loss: 0.1064 - sparse_categorical_accuracy: 0.9720 - val_loss: 4.6640 - val_sparse_categorical_accuracy: 0.5819\n",
      "Epoch 42/100\n",
      "200/200 [==============================] - 24s 118ms/step - loss: 0.0985 - sparse_categorical_accuracy: 0.9747 - val_loss: 5.0344 - val_sparse_categorical_accuracy: 0.5794\n",
      "Epoch 43/100\n",
      "200/200 [==============================] - 24s 118ms/step - loss: 0.0997 - sparse_categorical_accuracy: 0.9753 - val_loss: 4.7833 - val_sparse_categorical_accuracy: 0.5850\n",
      "Epoch 44/100\n",
      "200/200 [==============================] - 23s 116ms/step - loss: 0.1099 - sparse_categorical_accuracy: 0.9739 - val_loss: 4.7479 - val_sparse_categorical_accuracy: 0.5888\n",
      "Epoch 45/100\n",
      "200/200 [==============================] - 23s 116ms/step - loss: 0.1000 - sparse_categorical_accuracy: 0.9756 - val_loss: 5.5206 - val_sparse_categorical_accuracy: 0.5825\n",
      "Epoch 46/100\n",
      "200/200 [==============================] - 23s 116ms/step - loss: 0.0988 - sparse_categorical_accuracy: 0.9764 - val_loss: 5.4263 - val_sparse_categorical_accuracy: 0.5863\n",
      "Epoch 47/100\n",
      "200/200 [==============================] - 23s 116ms/step - loss: 0.1240 - sparse_categorical_accuracy: 0.9737 - val_loss: 5.5804 - val_sparse_categorical_accuracy: 0.5731\n",
      "Epoch 48/100\n",
      "200/200 [==============================] - 23s 115ms/step - loss: 0.1138 - sparse_categorical_accuracy: 0.9752 - val_loss: 5.0806 - val_sparse_categorical_accuracy: 0.5869\n",
      "Epoch 49/100\n",
      "200/200 [==============================] - 23s 116ms/step - loss: 0.1048 - sparse_categorical_accuracy: 0.9787 - val_loss: 5.3669 - val_sparse_categorical_accuracy: 0.5713\n",
      "Epoch 50/100\n",
      "200/200 [==============================] - 23s 115ms/step - loss: 0.1140 - sparse_categorical_accuracy: 0.9756 - val_loss: 6.3591 - val_sparse_categorical_accuracy: 0.5612\n",
      "Epoch 51/100\n",
      "200/200 [==============================] - 26s 128ms/step - loss: 0.1103 - sparse_categorical_accuracy: 0.9777 - val_loss: 5.1844 - val_sparse_categorical_accuracy: 0.5788\n",
      "Epoch 52/100\n",
      "200/200 [==============================] - 25s 127ms/step - loss: 0.1095 - sparse_categorical_accuracy: 0.9741 - val_loss: 5.1826 - val_sparse_categorical_accuracy: 0.5744\n",
      "Epoch 53/100\n",
      "200/200 [==============================] - 28s 140ms/step - loss: 0.1027 - sparse_categorical_accuracy: 0.9777 - val_loss: 4.8719 - val_sparse_categorical_accuracy: 0.5756\n",
      "Epoch 54/100\n",
      "200/200 [==============================] - 31s 156ms/step - loss: 0.1082 - sparse_categorical_accuracy: 0.9767 - val_loss: 5.2197 - val_sparse_categorical_accuracy: 0.5700\n",
      "Epoch 55/100\n",
      "200/200 [==============================] - 29s 144ms/step - loss: 0.0937 - sparse_categorical_accuracy: 0.9777 - val_loss: 5.2137 - val_sparse_categorical_accuracy: 0.5831\n",
      "Epoch 56/100\n",
      "200/200 [==============================] - 27s 134ms/step - loss: 0.0999 - sparse_categorical_accuracy: 0.9783 - val_loss: 6.7750 - val_sparse_categorical_accuracy: 0.5788\n",
      "Epoch 57/100\n",
      "200/200 [==============================] - 27s 137ms/step - loss: 0.1087 - sparse_categorical_accuracy: 0.9770 - val_loss: 6.6219 - val_sparse_categorical_accuracy: 0.5850\n",
      "Epoch 58/100\n",
      "200/200 [==============================] - 27s 134ms/step - loss: 0.1379 - sparse_categorical_accuracy: 0.9772 - val_loss: 6.5126 - val_sparse_categorical_accuracy: 0.5813\n",
      "Epoch 59/100\n",
      "200/200 [==============================] - 25s 125ms/step - loss: 0.0966 - sparse_categorical_accuracy: 0.9798 - val_loss: 5.5228 - val_sparse_categorical_accuracy: 0.5750\n",
      "Epoch 60/100\n",
      "200/200 [==============================] - 26s 131ms/step - loss: 0.1222 - sparse_categorical_accuracy: 0.9758 - val_loss: 5.5904 - val_sparse_categorical_accuracy: 0.5813\n",
      "Epoch 61/100\n",
      "200/200 [==============================] - 32s 162ms/step - loss: 0.1144 - sparse_categorical_accuracy: 0.9789 - val_loss: 5.1237 - val_sparse_categorical_accuracy: 0.5869\n",
      "Epoch 62/100\n",
      "200/200 [==============================] - 27s 135ms/step - loss: 0.1117 - sparse_categorical_accuracy: 0.9761 - val_loss: 5.7314 - val_sparse_categorical_accuracy: 0.5888\n",
      "Epoch 63/100\n",
      "200/200 [==============================] - 26s 128ms/step - loss: 0.1011 - sparse_categorical_accuracy: 0.9781 - val_loss: 6.5602 - val_sparse_categorical_accuracy: 0.5650\n",
      "Epoch 64/100\n",
      "200/200 [==============================] - 24s 118ms/step - loss: 0.1171 - sparse_categorical_accuracy: 0.9811 - val_loss: 6.1447 - val_sparse_categorical_accuracy: 0.5756\n",
      "Epoch 65/100\n",
      "200/200 [==============================] - 23s 113ms/step - loss: 0.1192 - sparse_categorical_accuracy: 0.9789 - val_loss: 7.3499 - val_sparse_categorical_accuracy: 0.5800\n",
      "Epoch 66/100\n",
      "200/200 [==============================] - 24s 119ms/step - loss: 0.1079 - sparse_categorical_accuracy: 0.9816 - val_loss: 6.5395 - val_sparse_categorical_accuracy: 0.5800\n",
      "Epoch 67/100\n",
      "200/200 [==============================] - 23s 113ms/step - loss: 0.0980 - sparse_categorical_accuracy: 0.9802 - val_loss: 7.2076 - val_sparse_categorical_accuracy: 0.5794\n",
      "Epoch 68/100\n",
      "200/200 [==============================] - 23s 113ms/step - loss: 0.1180 - sparse_categorical_accuracy: 0.9780 - val_loss: 7.7900 - val_sparse_categorical_accuracy: 0.5738\n",
      "Epoch 69/100\n",
      "200/200 [==============================] - 24s 122ms/step - loss: 0.1245 - sparse_categorical_accuracy: 0.9794 - val_loss: 6.6706 - val_sparse_categorical_accuracy: 0.5863\n",
      "Epoch 70/100\n",
      "200/200 [==============================] - 24s 120ms/step - loss: 0.1377 - sparse_categorical_accuracy: 0.9737 - val_loss: 6.9547 - val_sparse_categorical_accuracy: 0.5831\n",
      "Epoch 71/100\n",
      "200/200 [==============================] - 25s 124ms/step - loss: 0.1028 - sparse_categorical_accuracy: 0.9830 - val_loss: 6.8637 - val_sparse_categorical_accuracy: 0.5700\n",
      "Epoch 72/100\n",
      "200/200 [==============================] - 24s 122ms/step - loss: 0.1083 - sparse_categorical_accuracy: 0.9798 - val_loss: 7.2312 - val_sparse_categorical_accuracy: 0.5713\n",
      "Epoch 73/100\n",
      "200/200 [==============================] - 24s 120ms/step - loss: 0.1116 - sparse_categorical_accuracy: 0.9791 - val_loss: 8.0234 - val_sparse_categorical_accuracy: 0.5938\n",
      "Epoch 74/100\n",
      "200/200 [==============================] - 25s 125ms/step - loss: 0.1007 - sparse_categorical_accuracy: 0.9852 - val_loss: 8.7095 - val_sparse_categorical_accuracy: 0.5531\n",
      "Epoch 75/100\n",
      "200/200 [==============================] - 24s 119ms/step - loss: 0.1115 - sparse_categorical_accuracy: 0.9819 - val_loss: 7.7201 - val_sparse_categorical_accuracy: 0.5919\n",
      "Epoch 76/100\n",
      "200/200 [==============================] - 26s 129ms/step - loss: 0.1060 - sparse_categorical_accuracy: 0.9795 - val_loss: 10.0489 - val_sparse_categorical_accuracy: 0.5681\n",
      "Epoch 77/100\n",
      "200/200 [==============================] - 27s 136ms/step - loss: 0.1140 - sparse_categorical_accuracy: 0.9836 - val_loss: 9.2585 - val_sparse_categorical_accuracy: 0.5881\n",
      "Epoch 78/100\n",
      "200/200 [==============================] - 28s 139ms/step - loss: 0.1525 - sparse_categorical_accuracy: 0.9797 - val_loss: 7.7891 - val_sparse_categorical_accuracy: 0.5919\n",
      "Epoch 79/100\n",
      "200/200 [==============================] - 29s 144ms/step - loss: 0.1116 - sparse_categorical_accuracy: 0.9817 - val_loss: 7.0241 - val_sparse_categorical_accuracy: 0.5863\n",
      "Epoch 80/100\n",
      "200/200 [==============================] - 28s 138ms/step - loss: 0.1175 - sparse_categorical_accuracy: 0.9823 - val_loss: 8.0579 - val_sparse_categorical_accuracy: 0.5800\n",
      "Epoch 81/100\n",
      "200/200 [==============================] - 27s 136ms/step - loss: 0.1139 - sparse_categorical_accuracy: 0.9811 - val_loss: 9.4081 - val_sparse_categorical_accuracy: 0.5738\n",
      "Epoch 82/100\n",
      "200/200 [==============================] - 26s 130ms/step - loss: 0.1579 - sparse_categorical_accuracy: 0.9770 - val_loss: 9.0548 - val_sparse_categorical_accuracy: 0.5788\n",
      "Epoch 83/100\n",
      "200/200 [==============================] - 26s 130ms/step - loss: 0.1249 - sparse_categorical_accuracy: 0.9817 - val_loss: 7.1984 - val_sparse_categorical_accuracy: 0.5713\n",
      "Epoch 84/100\n",
      "200/200 [==============================] - 25s 125ms/step - loss: 0.0953 - sparse_categorical_accuracy: 0.9827 - val_loss: 9.6000 - val_sparse_categorical_accuracy: 0.5863\n",
      "Epoch 85/100\n",
      "200/200 [==============================] - 24s 121ms/step - loss: 0.1263 - sparse_categorical_accuracy: 0.9822 - val_loss: 8.4549 - val_sparse_categorical_accuracy: 0.5669\n",
      "Epoch 86/100\n",
      "200/200 [==============================] - 25s 123ms/step - loss: 0.0931 - sparse_categorical_accuracy: 0.9856 - val_loss: 10.3277 - val_sparse_categorical_accuracy: 0.5706\n",
      "Epoch 87/100\n",
      "200/200 [==============================] - 25s 126ms/step - loss: 0.1221 - sparse_categorical_accuracy: 0.9828 - val_loss: 10.9832 - val_sparse_categorical_accuracy: 0.5713\n",
      "Epoch 88/100\n",
      "200/200 [==============================] - 25s 126ms/step - loss: 0.1277 - sparse_categorical_accuracy: 0.9823 - val_loss: 10.0153 - val_sparse_categorical_accuracy: 0.5706\n",
      "Epoch 89/100\n",
      "200/200 [==============================] - 25s 127ms/step - loss: 0.1230 - sparse_categorical_accuracy: 0.9797 - val_loss: 7.5336 - val_sparse_categorical_accuracy: 0.5794\n",
      "Epoch 90/100\n",
      "200/200 [==============================] - 25s 127ms/step - loss: 0.1052 - sparse_categorical_accuracy: 0.9850 - val_loss: 9.7637 - val_sparse_categorical_accuracy: 0.5694\n",
      "Epoch 91/100\n",
      "200/200 [==============================] - 26s 128ms/step - loss: 0.1372 - sparse_categorical_accuracy: 0.9820 - val_loss: 11.7063 - val_sparse_categorical_accuracy: 0.6012\n",
      "Epoch 92/100\n",
      "200/200 [==============================] - 25s 126ms/step - loss: 0.1250 - sparse_categorical_accuracy: 0.9827 - val_loss: 9.1715 - val_sparse_categorical_accuracy: 0.5819\n",
      "Epoch 93/100\n",
      "200/200 [==============================] - 26s 131ms/step - loss: 0.1299 - sparse_categorical_accuracy: 0.9836 - val_loss: 10.4042 - val_sparse_categorical_accuracy: 0.5863\n",
      "Epoch 94/100\n",
      "200/200 [==============================] - 25s 126ms/step - loss: 0.1187 - sparse_categorical_accuracy: 0.9830 - val_loss: 9.1288 - val_sparse_categorical_accuracy: 0.5850\n",
      "Epoch 95/100\n",
      "200/200 [==============================] - 26s 128ms/step - loss: 0.1229 - sparse_categorical_accuracy: 0.9800 - val_loss: 9.5941 - val_sparse_categorical_accuracy: 0.5875\n",
      "Epoch 96/100\n",
      "200/200 [==============================] - 25s 125ms/step - loss: 0.1011 - sparse_categorical_accuracy: 0.9855 - val_loss: 11.4391 - val_sparse_categorical_accuracy: 0.5681\n",
      "Epoch 97/100\n",
      "200/200 [==============================] - 25s 126ms/step - loss: 0.1168 - sparse_categorical_accuracy: 0.9816 - val_loss: 10.9524 - val_sparse_categorical_accuracy: 0.5800\n",
      "Epoch 98/100\n",
      "200/200 [==============================] - 25s 125ms/step - loss: 0.1282 - sparse_categorical_accuracy: 0.9836 - val_loss: 12.6304 - val_sparse_categorical_accuracy: 0.5675\n",
      "Epoch 99/100\n",
      "200/200 [==============================] - 26s 129ms/step - loss: 0.1562 - sparse_categorical_accuracy: 0.9812 - val_loss: 11.9588 - val_sparse_categorical_accuracy: 0.5794\n",
      "Epoch 100/100\n",
      "200/200 [==============================] - 27s 134ms/step - loss: 0.1174 - sparse_categorical_accuracy: 0.9848 - val_loss: 12.3903 - val_sparse_categorical_accuracy: 0.5700\n"
     ]
    }
   ],
   "source": [
    "cnn_model.compile(optimizer=tf.keras.optimizers.RMSprop(), \n",
    "              loss=tf.keras.losses.SparseCategoricalCrossentropy(), \n",
    "              metrics=tf.keras.metrics.SparseCategoricalAccuracy())\n",
    "\n",
    "cnn_history = cnn_model.fit(x_train, y_train, epochs=100, validation_split=0.2, verbose=1)"
   ]
  },
  {
   "cell_type": "markdown",
   "metadata": {},
   "source": [
    "Getting the predicted labels in order to evalueate the model"
   ]
  },
  {
   "cell_type": "code",
   "execution_count": 523,
   "metadata": {},
   "outputs": [],
   "source": [
    "cnn_y_pred = cnn_model.predict_classes(test_images)"
   ]
  },
  {
   "cell_type": "code",
   "execution_count": 524,
   "metadata": {},
   "outputs": [
    {
     "name": "stdout",
     "output_type": "stream",
     "text": [
      "              precision    recall  f1-score   support\n",
      "\n",
      "   airplanes       0.65      0.51      0.57       100\n",
      "  automobile       0.64      0.74      0.69       100\n",
      "        bird       0.39      0.49      0.44       100\n",
      "         cat       0.41      0.39      0.40       100\n",
      "        deer       0.50      0.54      0.52       100\n",
      "         dog       0.47      0.52      0.50       100\n",
      "        frog       0.65      0.70      0.67       100\n",
      "       horse       0.74      0.50      0.60       100\n",
      "        ship       0.74      0.77      0.75       100\n",
      "       truck       0.69      0.61      0.65       100\n",
      "\n",
      "    accuracy                           0.58      1000\n",
      "   macro avg       0.59      0.58      0.58      1000\n",
      "weighted avg       0.59      0.58      0.58      1000\n",
      "\n"
     ]
    }
   ],
   "source": [
    "cnn_Cmatrix = confusion_matrix(test_labels, cnn_y_pred)\n",
    "print(classification_report(test_labels, cnn_y_pred, target_names = labels))"
   ]
  },
  {
   "cell_type": "code",
   "execution_count": 525,
   "metadata": {},
   "outputs": [
    {
     "name": "stdout",
     "output_type": "stream",
     "text": [
      "Confusion matrix, without normalization\n",
      "[[51  6 16  2  2  1  2  2 13  5]\n",
      " [ 1 74  1  3  0  2  1  0  6 12]\n",
      " [ 6  1 49 12  9 11  8  4  0  0]\n",
      " [ 3  3  9 39 12 24  9  1  0  0]\n",
      " [ 3  3 14  2 54  7  9  3  4  1]\n",
      " [ 0  0 14 12  9 52  7  5  0  1]\n",
      " [ 0  1  7 12  3  4 70  1  1  1]\n",
      " [ 1  1 10  7 17  9  1 50  0  4]\n",
      " [ 7  6  5  0  2  0  0  0 77  3]\n",
      " [ 7 20  0  5  1  0  1  2  3 61]]\n"
     ]
    },
    {
     "data": {
      "image/png": "[encoded data removed]",
      "text/plain": [
       "<Figure size 576x576 with 2 Axes>"
      ]
     },
     "metadata": {
      "needs_background": "light"
     },
     "output_type": "display_data"
    }
   ],
   "source": [
    "fig,ax = plt.subplots(figsize = (8,8))\n",
    "plot_confusion_matrix(cm = cnn_Cmatrix, classes = labels , title = \" Convolutional Neural Network's Confusion Matrix\")"
   ]
  },
  {
   "cell_type": "markdown",
   "metadata": {},
   "source": [
    "I evaluate the both models and compare the in a nice forat here"
   ]
  },
  {
   "cell_type": "code",
   "execution_count": 526,
   "metadata": {},
   "outputs": [
    {
     "name": "stdout",
     "output_type": "stream",
     "text": [
      "32/32 [==============================] - 0s 7ms/step - loss: 14.4010 - sparse_categorical_accuracy: 0.5430\n",
      "32/32 [==============================] - 1s 40ms/step - loss: 12.9058 - sparse_categorical_accuracy: 0.5770\n"
     ]
    }
   ],
   "source": [
    "nn_results = nn_model.evaluate(nn_test_images, test_labels)\n",
    "cnn_results = cnn_model.evaluate(test_images, test_labels)"
   ]
  },
  {
   "cell_type": "code",
   "execution_count": 527,
   "metadata": {},
   "outputs": [
    {
     "name": "stdout",
     "output_type": "stream",
     "text": [
      " NN Test set loss: 14.40, NN test set accuracy: 54.30%\n",
      "CNN Test set loss: 12.91, CNN test set accuracy: 57.70%\n"
     ]
    }
   ],
   "source": [
    "print(f' NN Test set loss: {nn_results[0]:0.2f}, NN test set accuracy: {nn_results[1]*100:0.2f}%')\n",
    "print(f'CNN Test set loss: {cnn_results[0]:0.2f}, CNN test set accuracy: {cnn_results[1]*100:0.2f}%')"
   ]
  }
 ],
 "metadata": {
  "kernelspec": {
   "display_name": "Python 3",
   "language": "python",
   "name": "python3"
  },
  "language_info": {
   "codemirror_mode": {
    "name": "ipython",
    "version": 3
   },
   "file_extension": ".py",
   "mimetype": "text/x-python",
   "name": "python",
   "nbconvert_exporter": "python",
   "pygments_lexer": "ipython3",
   "version": "3.8.6"
  }
 },
 "nbformat": 4,
 "nbformat_minor": 4
}
